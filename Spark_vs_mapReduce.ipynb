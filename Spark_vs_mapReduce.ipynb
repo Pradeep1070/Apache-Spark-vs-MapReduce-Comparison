{
  "nbformat": 4,
  "nbformat_minor": 0,
  "metadata": {
    "colab": {
      "provenance": [],
      "collapsed_sections": [
        "Iay1rXIx_ol0",
        "i7wfiVbq_yeO",
        "7AwMn4Wi0KFw",
        "CyExMHyGLzCs"
      ],
      "authorship_tag": "ABX9TyOMzHJ5JGtbyzze4X8ZFgDl"
    },
    "kernelspec": {
      "name": "python3",
      "display_name": "Python 3"
    },
    "language_info": {
      "name": "python"
    }
  },
  "cells": [
    {
      "cell_type": "markdown",
      "source": [
        "Spark script and the hive scripts were executed in Putty CLI with and SSH concetion to the Amazon EMR.\n",
        "\n",
        "**Run the Results section for comparison of already obtained results**"
      ],
      "metadata": {
        "id": "Sj6dL_59NwF2"
      }
    },
    {
      "cell_type": "markdown",
      "source": [
        "# spark script"
      ],
      "metadata": {
        "id": "Iay1rXIx_ol0"
      }
    },
    {
      "cell_type": "code",
      "source": [
        "import json\n",
        "from pyspark.sql import SparkSession\n",
        "import numpy as np\n",
        "from collections import defaultdict\n",
        "import time\n",
        "\n",
        "S3_DATA_SOURCE_PATH = 's3://hivevsapachesqls3/data/DelayedFlights-updated.csv'\n",
        "S3_DATA_OUTPUT_PATH = 's3://hivevsapachesqls3/output/Spark/'\n",
        "\n",
        "def main():\n",
        "    # Start the SparkSession\n",
        "    spark = SparkSession.builder.appName('mapReduceVsSparkApp').getOrCreate()\n",
        "\n",
        "    # Load the data from S3 bucket\n",
        "    all_data = spark.read.csv(S3_DATA_SOURCE_PATH, header=True)\n",
        "    all_data.createOrReplaceTempView(\"all_data\")\n",
        "\n",
        "    queries = {\n",
        "        'q1': 'SELECT Year, AVG((CarrierDelay/ArrDelay)*100) as avgCarrierDelay FROM all_data GROUP BY Year',\n",
        "        'q2': 'SELECT Year, AVG((WeatherDelay/ArrDelay)*100) as avgWeatherDelay FROM all_data GROUP BY Year',\n",
        "        'q3': 'SELECT Year, AVG((NASDelay/ArrDelay)*100) as avgNASDelay FROM all_data GROUP BY Year',\n",
        "        'q4': 'SELECT Year, AVG((SecurityDelay/ArrDelay)*100) as avgSecurityDelay FROM all_data GROUP BY Year',\n",
        "        'q5': 'SELECT Year, AVG((LateAircraftDelay/ArrDelay)*100) as avgLateAircraftDelay FROM all_data GROUP BY Year'\n",
        "    }\n",
        "\n",
        "    q_executions = defaultdict(list)\n",
        "    q_results = []\n",
        "    q_avg = []\n",
        "\n",
        "    for k, v in queries.items():\n",
        "        for i in range(5):\n",
        "            start_time = time.time()\n",
        "            query_result = spark.sql(v)\n",
        "            end_time = time.time()\n",
        "            execution_time = end_time - start_time\n",
        "            q_executions[k].append(execution_time)\n",
        "\n",
        "            if i == 4:\n",
        "                q_results.append(query_result)\n",
        "                q_avg.append(np.mean(q_executions[k]))\n",
        "\n",
        "    cum_exec_times = [q_executions['q1'][0]]\n",
        "    for i in range(1, 5):\n",
        "        cum_exec_times.append(cum_exec_times[i-1] + q_executions['q1'][i])\n",
        "\n",
        "    # Convert data to JSON strings\n",
        "    json_q_executions = json.dumps(q_executions)\n",
        "    json_cum_exec_times = json.dumps(cum_exec_times)\n",
        "    json_q_avg = json.dumps(q_avg)\n",
        "\n",
        "    # Write JSON strings to CSV and text files in S3\n",
        "    spark.createDataFrame([(json_q_executions,)]).write.mode('overwrite').csv(S3_DATA_OUTPUT_PATH + 'q_executions.csv')\n",
        "    spark.createDataFrame([(json_cum_exec_times,)]).write.mode('overwrite').csv(S3_DATA_OUTPUT_PATH + 'cum_exec_times.csv')\n",
        "    spark.createDataFrame([(json_q_avg,)]).write.mode('overwrite').csv(S3_DATA_OUTPUT_PATH + 'q_avg.csv')\n",
        "\n",
        "    for result in q_results:\n",
        "        result.write.mode('overwrite').csv(S3_DATA_OUTPUT_PATH + 'query_results_' + result.__class__.__name__ + '.csv')\n",
        "\n",
        "    print('cumulative iteration durations:', cum_exec_times)\n",
        "    print('average query durations:', q_avg)\n",
        "    print('all exec times:', q_executions)\n",
        "\n",
        "    # Stop the SparkSession\n",
        "    spark.stop()\n",
        "\n",
        "if __name__ == '__main__':\n",
        "    main()\n"
      ],
      "metadata": {
        "id": "kA2zHtBtwnZm"
      },
      "execution_count": null,
      "outputs": []
    },
    {
      "cell_type": "markdown",
      "source": [
        "# Hive script"
      ],
      "metadata": {
        "id": "i7wfiVbq_yeO"
      }
    },
    {
      "cell_type": "code",
      "source": [
        "#!/usr/bin/env python3\n",
        "\n",
        "import subprocess\n",
        "import json\n",
        "from collections import defaultdict\n",
        "import time\n",
        "\n",
        "# Define Amazon S3 paths\n",
        "S3_DATA_SOURCE_PATH = 's3://hivevsapachesqls3/data/'\n",
        "\n",
        "# Define Hive SQL queries\n",
        "QUERIES = {\n",
        "    'q1': 'SELECT Year, AVG((CarrierDelay/ArrDelay)*100) as avgCarrierDelay FROM all_data GROUP BY Year',\n",
        "    'q2': 'SELECT Year, AVG((WeatherDelay/ArrDelay)*100) as avgWeatherDelay FROM all_data GROUP BY Year',\n",
        "    'q3': 'SELECT Year, AVG((NASDelay/ArrDelay)*100) as avgNASDelay FROM all_data GROUP BY Year',\n",
        "    'q4': 'SELECT Year, AVG((SecurityDelay/ArrDelay)*100) as avgSecurityDelay FROM all_data GROUP BY Year',\n",
        "    'q5': 'SELECT Year, AVG((LateAircraftDelay/ArrDelay)*100) as avgLateAircraftDelay FROM all_data GROUP BY Year'\n",
        "}\n",
        "\n",
        "def create_external_table():\n",
        "    # Create external table in Hive\n",
        "    subprocess.run(['hive', '-e', f\"CREATE EXTERNAL TABLE IF NOT EXISTS all_data (Year INT, CarrierDelay INT, ArrDelay INT, WeatherDelay INT, NASDelay INT, SecurityDelay INT, LateAircraftDelay INT) ROW FORMAT DELIMITED FIELDS TERMINATED BY ',' LOCATION '{S3_DATA_SOURCE_PATH}'\"])\n",
        "\n",
        "def run_hive_query(query):\n",
        "    # Execute Hive query and measure execution time\n",
        "    start_time = time.time()\n",
        "    subprocess.run(['hive', '-e', f'USE default; {query}'])\n",
        "    end_time = time.time()\n",
        "    return end_time - start_time\n",
        "\n",
        "def main():\n",
        "    create_external_table()\n",
        "\n",
        "    q_executions = defaultdict(list)\n",
        "    q_avg = []\n",
        "\n",
        "    for query_name, query in QUERIES.items():\n",
        "        for _ in range(5):\n",
        "            execution_time = run_hive_query(query)\n",
        "            q_executions[query_name].append(execution_time)\n",
        "\n",
        "        q_avg.append(sum(q_executions[query_name]) / len(q_executions[query_name]))\n",
        "\n",
        "    print('Average query durations:', q_avg)\n",
        "    print('all exec times:', q_executions)\n",
        "\n",
        "if __name__ == '__main__':\n",
        "    main()\n"
      ],
      "metadata": {
        "id": "XRF9IL-bcE8a"
      },
      "execution_count": null,
      "outputs": []
    },
    {
      "cell_type": "markdown",
      "source": [
        "# Results"
      ],
      "metadata": {
        "id": "7AwMn4Wi0KFw"
      }
    },
    {
      "cell_type": "markdown",
      "source": [
        "## spark"
      ],
      "metadata": {
        "id": "iiIeYBpS0N0g"
      }
    },
    {
      "cell_type": "markdown",
      "source": [
        "results"
      ],
      "metadata": {
        "id": "6UiWVKKqLpCq"
      }
    },
    {
      "cell_type": "code",
      "source": [
        "spark_avg_qdurations = [0.06103968620300293, 0.022768402099609376, 0.020530176162719727, 0.019676017761230468, 0.017796993255615234]\n",
        "spark_all_exec_times = {\n",
        "    'q1': [0.20233988761901855, 0.026049137115478516, 0.026645421981811523, 0.02586054801940918, 0.024303436279296875],\n",
        "    'q2': [0.02426743507385254, 0.02227783203125, 0.022639751434326172, 0.022837400436401367, 0.021819591522216797],\n",
        "    'q3': [0.020797252655029297, 0.0211029052734375, 0.02127695083618164, 0.019904613494873047, 0.01956915855407715],\n",
        "    'q4': [0.01997661590576172, 0.02044987678527832, 0.018873929977416992, 0.021708011627197266, 0.017371654510498047],\n",
        "    'q5': [0.018813371658325195, 0.018249988555908203, 0.01796245574951172, 0.017439842224121094, 0.01651930809020996]}"
      ],
      "metadata": {
        "id": "jKhYku7K0NiL"
      },
      "execution_count": 57,
      "outputs": []
    },
    {
      "cell_type": "markdown",
      "source": [
        "cumalative execution durations"
      ],
      "metadata": {
        "id": "8SUlmXlKLoIp"
      }
    },
    {
      "cell_type": "code",
      "source": [
        "spark_cum_exec_times = [spark_avg_qdurations[0]]\n",
        "for i in range(1, 5):\n",
        "    spark_cum_exec_times.append(spark_cum_exec_times[i-1] + spark_avg_qdurations[i])\n",
        "spark_cum_exec_times = [round(i,2) for i in spark_cum_exec_times]\n",
        "spark_cum_exec_times"
      ],
      "metadata": {
        "colab": {
          "base_uri": "https://localhost:8080/"
        },
        "id": "TVrC9Wt40Us-",
        "outputId": "f7408eae-49f2-4d2b-ff01-e4874eca1591"
      },
      "execution_count": 58,
      "outputs": [
        {
          "output_type": "execute_result",
          "data": {
            "text/plain": [
              "[0.06, 0.08, 0.1, 0.12, 0.14]"
            ]
          },
          "metadata": {},
          "execution_count": 58
        }
      ]
    },
    {
      "cell_type": "markdown",
      "source": [
        "## hive"
      ],
      "metadata": {
        "id": "AcnPg7jg0L0Q"
      }
    },
    {
      "cell_type": "markdown",
      "source": [
        "results"
      ],
      "metadata": {
        "id": "gkO95bDbLwql"
      }
    },
    {
      "cell_type": "code",
      "source": [
        "hive_avg_qdurations = [25.921474552154542, 25.352758979797365, 25.602688360214234, 25.80671238899231, 26.20261878967285]\n",
        "hive_avg_qdurations = [round(i,2) for i in hive_avg_qdurations]\n",
        "hive_all_exec_times = {\n",
        "    'q1': [25.90849494934082, 25.294697284698486, 25.809978485107422, 26.493053913116455, 26.10114812850952],\n",
        "    'q2': [26.507639408111572, 24.551208972930908, 25.17723250389099, 26.51386523246765, 24.013848781585693],\n",
        "    'q3': [25.634434461593628, 26.679437160491943, 25.675752878189087, 25.66969347000122, 24.354123830795288],\n",
        "    'q4': [24.509109497070312, 27.02549123764038, 26.593406915664673, 26.170722723007202, 24.73483157157898],\n",
        "    'q5': [28.118037939071655, 26.640219926834106, 24.78272032737732, 26.297563791275024, 25.174551963806152]\n",
        "  }"
      ],
      "metadata": {
        "id": "J56o0SKMm2Jt"
      },
      "execution_count": 55,
      "outputs": []
    },
    {
      "cell_type": "markdown",
      "source": [
        "cumalative execution durations"
      ],
      "metadata": {
        "id": "ySZig9B1Lvm-"
      }
    },
    {
      "cell_type": "code",
      "source": [
        "hive_cum_exec_times = [hive_avg_qdurations[0]]\n",
        "for i in range(1, 5):\n",
        "    # print(i,cum_exec_times[i-1] , average_query_durations[i], cum_exec_times[i-1] + average_query_durations[i])\n",
        "    hive_cum_exec_times.append(hive_cum_exec_times[i-1] + hive_avg_qdurations[i])\n",
        "hive_cum_exec_times = [round(i,2) for i in hive_cum_exec_times]\n",
        "hive_cum_exec_times"
      ],
      "metadata": {
        "colab": {
          "base_uri": "https://localhost:8080/"
        },
        "id": "VZ16h6Dh2RB-",
        "outputId": "76b9a41f-9a17-4da5-d3cc-72fb5f8cf932"
      },
      "execution_count": 56,
      "outputs": [
        {
          "output_type": "execute_result",
          "data": {
            "text/plain": [
              "[25.92, 51.27, 76.87, 102.68, 128.88]"
            ]
          },
          "metadata": {},
          "execution_count": 56
        }
      ]
    },
    {
      "cell_type": "markdown",
      "source": [
        "# Plotting and Comparison"
      ],
      "metadata": {
        "id": "CyExMHyGLzCs"
      }
    },
    {
      "cell_type": "code",
      "source": [
        "import matplotlib.pyplot as plt\n",
        "import pandas as pd"
      ],
      "metadata": {
        "id": "jEr7c12i7WO5"
      },
      "execution_count": 63,
      "outputs": []
    },
    {
      "cell_type": "code",
      "source": [
        "queries = ['Avg Carrier Delay','Avg Weather Delay','Avg NAS Delay','Avg Security Delay','Avg LateAircraft Delay']"
      ],
      "metadata": {
        "id": "hy_ODJJLDhge"
      },
      "execution_count": 70,
      "outputs": []
    },
    {
      "cell_type": "code",
      "source": [
        "x = range(len(hive_cum_exec_times))\n",
        "bar_width=0.35\n",
        "\n",
        "fig, ax = plt.subplots(figsize=(9,6))\n",
        "bars1 = ax.bar(x, spark_cum_exec_times, width=bar_width, label='spark')\n",
        "bars2 = ax.bar([i + bar_width for i in x], hive_cum_exec_times, width=bar_width, label='hive')\n",
        "ax.set_xlabel('No of Iterations')\n",
        "ax.set_ylabel('query duration(s)')\n",
        "ax.set_title('Hadoop vs Spark - cumalative query duration')\n",
        "ax.set_xticks([i + bar_width / 2 for i in x])\n",
        "ax.set_xticklabels(['iteraion'+str(i+1) for i in range(5)])\n",
        "ax.legend()\n",
        "plt.show()"
      ],
      "metadata": {
        "colab": {
          "base_uri": "https://localhost:8080/",
          "height": 564
        },
        "id": "-aZ801-O6-qG",
        "outputId": "308da528-1286-46f8-969d-5cae78ebf513"
      },
      "execution_count": 62,
      "outputs": [
        {
          "output_type": "display_data",
          "data": {
            "text/plain": [
              "<Figure size 900x600 with 1 Axes>"
            ],
            "image/png": "[encoded data removed]"
          },
          "metadata": {}
        }
      ]
    },
    {
      "cell_type": "code",
      "source": [
        "df = pd.DataFrame({\n",
        "    'query': queries,\n",
        "    'Spark-SQL': spark_avg_qdurations,\n",
        "    'HiveQL': hive_avg_qdurations\n",
        "    })\n",
        "df"
      ],
      "metadata": {
        "colab": {
          "base_uri": "https://localhost:8080/",
          "height": 206
        },
        "id": "dvkj9Eyo7k-R",
        "outputId": "e1374eed-f5e3-4452-e615-1e5144a11f57"
      },
      "execution_count": 71,
      "outputs": [
        {
          "output_type": "execute_result",
          "data": {
            "text/plain": [
              "                    query  Spark-SQL  HiveQL\n",
              "0       Avg Carrier Delay   0.061040   25.92\n",
              "1       Avg Weather Delay   0.022768   25.35\n",
              "2           Avg NAS Delay   0.020530   25.60\n",
              "3      Avg Security Delay   0.019676   25.81\n",
              "4  Avg LateAircraft Delay   0.017797   26.20"
            ],
            "text/html": [
              "\n",
              "  <div id=\"df-bbf48351-7335-44e3-86c8-303a313e3710\" class=\"colab-df-container\">\n",
              "    <div>\n",
              "<style scoped>\n",
              "    .dataframe tbody tr th:only-of-type {\n",
              "        vertical-align: middle;\n",
              "    }\n",
              "\n",
              "    .dataframe tbody tr th {\n",
              "        vertical-align: top;\n",
              "    }\n",
              "\n",
              "    .dataframe thead th {\n",
              "        text-align: right;\n",
              "    }\n",
              "</style>\n",
              "<table border=\"1\" class=\"dataframe\">\n",
              "  <thead>\n",
              "    <tr style=\"text-align: right;\">\n",
              "      <th></th>\n",
              "      <th>query</th>\n",
              "      <th>Spark-SQL</th>\n",
              "      <th>HiveQL</th>\n",
              "    </tr>\n",
              "  </thead>\n",
              "  <tbody>\n",
              "    <tr>\n",
              "      <th>0</th>\n",
              "      <td>Avg Carrier Delay</td>\n",
              "      <td>0.061040</td>\n",
              "      <td>25.92</td>\n",
              "    </tr>\n",
              "    <tr>\n",
              "      <th>1</th>\n",
              "      <td>Avg Weather Delay</td>\n",
              "      <td>0.022768</td>\n",
              "      <td>25.35</td>\n",
              "    </tr>\n",
              "    <tr>\n",
              "      <th>2</th>\n",
              "      <td>Avg NAS Delay</td>\n",
              "      <td>0.020530</td>\n",
              "      <td>25.60</td>\n",
              "    </tr>\n",
              "    <tr>\n",
              "      <th>3</th>\n",
              "      <td>Avg Security Delay</td>\n",
              "      <td>0.019676</td>\n",
              "      <td>25.81</td>\n",
              "    </tr>\n",
              "    <tr>\n",
              "      <th>4</th>\n",
              "      <td>Avg LateAircraft Delay</td>\n",
              "      <td>0.017797</td>\n",
              "      <td>26.20</td>\n",
              "    </tr>\n",
              "  </tbody>\n",
              "</table>\n",
              "</div>\n",
              "    <div class=\"colab-df-buttons\">\n",
              "\n",
              "  <div class=\"colab-df-container\">\n",
              "    <button class=\"colab-df-convert\" onclick=\"convertToInteractive('df-bbf48351-7335-44e3-86c8-303a313e3710')\"\n",
              "            title=\"Convert this dataframe to an interactive table.\"\n",
              "            style=\"display:none;\">\n",
              "\n",
              "  <svg xmlns=\"http://www.w3.org/2000/svg\" height=\"24px\" viewBox=\"0 -960 960 960\">\n",
              "    <path d=\"M120-120v-720h720v720H120Zm60-500h600v-160H180v160Zm220 220h160v-160H400v160Zm0 220h160v-160H400v160ZM180-400h160v-160H180v160Zm440 0h160v-160H620v160ZM180-180h160v-160H180v160Zm440 0h160v-160H620v160Z\"/>\n",
              "  </svg>\n",
              "    </button>\n",
              "\n",
              "  <style>\n",
              "    .colab-df-container {\n",
              "      display:flex;\n",
              "      gap: 12px;\n",
              "    }\n",
              "\n",
              "    .colab-df-convert {\n",
              "      background-color: #E8F0FE;\n",
              "      border: none;\n",
              "      border-radius: 50%;\n",
              "      cursor: pointer;\n",
              "      display: none;\n",
              "      fill: #1967D2;\n",
              "      height: 32px;\n",
              "      padding: 0 0 0 0;\n",
              "      width: 32px;\n",
              "    }\n",
              "\n",
              "    .colab-df-convert:hover {\n",
              "      background-color: #E2EBFA;\n",
              "      box-shadow: 0px 1px 2px rgba(60, 64, 67, 0.3), 0px 1px 3px 1px rgba(60, 64, 67, 0.15);\n",
              "      fill: #174EA6;\n",
              "    }\n",
              "\n",
              "    .colab-df-buttons div {\n",
              "      margin-bottom: 4px;\n",
              "    }\n",
              "\n",
              "    [theme=dark] .colab-df-convert {\n",
              "      background-color: #3B4455;\n",
              "      fill: #D2E3FC;\n",
              "    }\n",
              "\n",
              "    [theme=dark] .colab-df-convert:hover {\n",
              "      background-color: #434B5C;\n",
              "      box-shadow: 0px 1px 3px 1px rgba(0, 0, 0, 0.15);\n",
              "      filter: drop-shadow(0px 1px 2px rgba(0, 0, 0, 0.3));\n",
              "      fill: #FFFFFF;\n",
              "    }\n",
              "  </style>\n",
              "\n",
              "    <script>\n",
              "      const buttonEl =\n",
              "        document.querySelector('#df-bbf48351-7335-44e3-86c8-303a313e3710 button.colab-df-convert');\n",
              "      buttonEl.style.display =\n",
              "        google.colab.kernel.accessAllowed ? 'block' : 'none';\n",
              "\n",
              "      async function convertToInteractive(key) {\n",
              "        const element = document.querySelector('#df-bbf48351-7335-44e3-86c8-303a313e3710');\n",
              "        const dataTable =\n",
              "          await google.colab.kernel.invokeFunction('convertToInteractive',\n",
              "                                                    [key], {});\n",
              "        if (!dataTable) return;\n",
              "\n",
              "        const docLinkHtml = 'Like what you see? Visit the ' +\n",
              "          '<a target=\"_blank\" href=https://colab.research.google.com/notebooks/data_table.ipynb>data table notebook</a>'\n",
              "          + ' to learn more about interactive tables.';\n",
              "        element.innerHTML = '';\n",
              "        dataTable['output_type'] = 'display_data';\n",
              "        await google.colab.output.renderOutput(dataTable, element);\n",
              "        const docLink = document.createElement('div');\n",
              "        docLink.innerHTML = docLinkHtml;\n",
              "        element.appendChild(docLink);\n",
              "      }\n",
              "    </script>\n",
              "  </div>\n",
              "\n",
              "\n",
              "<div id=\"df-50f6836d-f8af-4a6d-b3f2-f0afb4aaa70d\">\n",
              "  <button class=\"colab-df-quickchart\" onclick=\"quickchart('df-50f6836d-f8af-4a6d-b3f2-f0afb4aaa70d')\"\n",
              "            title=\"Suggest charts\"\n",
              "            style=\"display:none;\">\n",
              "\n",
              "<svg xmlns=\"http://www.w3.org/2000/svg\" height=\"24px\"viewBox=\"0 0 24 24\"\n",
              "     width=\"24px\">\n",
              "    <g>\n",
              "        <path d=\"M19 3H5c-1.1 0-2 .9-2 2v14c0 1.1.9 2 2 2h14c1.1 0 2-.9 2-2V5c0-1.1-.9-2-2-2zM9 17H7v-7h2v7zm4 0h-2V7h2v10zm4 0h-2v-4h2v4z\"/>\n",
              "    </g>\n",
              "</svg>\n",
              "  </button>\n",
              "\n",
              "<style>\n",
              "  .colab-df-quickchart {\n",
              "      --bg-color: #E8F0FE;\n",
              "      --fill-color: #1967D2;\n",
              "      --hover-bg-color: #E2EBFA;\n",
              "      --hover-fill-color: #174EA6;\n",
              "      --disabled-fill-color: #AAA;\n",
              "      --disabled-bg-color: #DDD;\n",
              "  }\n",
              "\n",
              "  [theme=dark] .colab-df-quickchart {\n",
              "      --bg-color: #3B4455;\n",
              "      --fill-color: #D2E3FC;\n",
              "      --hover-bg-color: #434B5C;\n",
              "      --hover-fill-color: #FFFFFF;\n",
              "      --disabled-bg-color: #3B4455;\n",
              "      --disabled-fill-color: #666;\n",
              "  }\n",
              "\n",
              "  .colab-df-quickchart {\n",
              "    background-color: var(--bg-color);\n",
              "    border: none;\n",
              "    border-radius: 50%;\n",
              "    cursor: pointer;\n",
              "    display: none;\n",
              "    fill: var(--fill-color);\n",
              "    height: 32px;\n",
              "    padding: 0;\n",
              "    width: 32px;\n",
              "  }\n",
              "\n",
              "  .colab-df-quickchart:hover {\n",
              "    background-color: var(--hover-bg-color);\n",
              "    box-shadow: 0 1px 2px rgba(60, 64, 67, 0.3), 0 1px 3px 1px rgba(60, 64, 67, 0.15);\n",
              "    fill: var(--button-hover-fill-color);\n",
              "  }\n",
              "\n",
              "  .colab-df-quickchart-complete:disabled,\n",
              "  .colab-df-quickchart-complete:disabled:hover {\n",
              "    background-color: var(--disabled-bg-color);\n",
              "    fill: var(--disabled-fill-color);\n",
              "    box-shadow: none;\n",
              "  }\n",
              "\n",
              "  .colab-df-spinner {\n",
              "    border: 2px solid var(--fill-color);\n",
              "    border-color: transparent;\n",
              "    border-bottom-color: var(--fill-color);\n",
              "    animation:\n",
              "      spin 1s steps(1) infinite;\n",
              "  }\n",
              "\n",
              "  @keyframes spin {\n",
              "    0% {\n",
              "      border-color: transparent;\n",
              "      border-bottom-color: var(--fill-color);\n",
              "      border-left-color: var(--fill-color);\n",
              "    }\n",
              "    20% {\n",
              "      border-color: transparent;\n",
              "      border-left-color: var(--fill-color);\n",
              "      border-top-color: var(--fill-color);\n",
              "    }\n",
              "    30% {\n",
              "      border-color: transparent;\n",
              "      border-left-color: var(--fill-color);\n",
              "      border-top-color: var(--fill-color);\n",
              "      border-right-color: var(--fill-color);\n",
              "    }\n",
              "    40% {\n",
              "      border-color: transparent;\n",
              "      border-right-color: var(--fill-color);\n",
              "      border-top-color: var(--fill-color);\n",
              "    }\n",
              "    60% {\n",
              "      border-color: transparent;\n",
              "      border-right-color: var(--fill-color);\n",
              "    }\n",
              "    80% {\n",
              "      border-color: transparent;\n",
              "      border-right-color: var(--fill-color);\n",
              "      border-bottom-color: var(--fill-color);\n",
              "    }\n",
              "    90% {\n",
              "      border-color: transparent;\n",
              "      border-bottom-color: var(--fill-color);\n",
              "    }\n",
              "  }\n",
              "</style>\n",
              "\n",
              "  <script>\n",
              "    async function quickchart(key) {\n",
              "      const quickchartButtonEl =\n",
              "        document.querySelector('#' + key + ' button');\n",
              "      quickchartButtonEl.disabled = true;  // To prevent multiple clicks.\n",
              "      quickchartButtonEl.classList.add('colab-df-spinner');\n",
              "      try {\n",
              "        const charts = await google.colab.kernel.invokeFunction(\n",
              "            'suggestCharts', [key], {});\n",
              "      } catch (error) {\n",
              "        console.error('Error during call to suggestCharts:', error);\n",
              "      }\n",
              "      quickchartButtonEl.classList.remove('colab-df-spinner');\n",
              "      quickchartButtonEl.classList.add('colab-df-quickchart-complete');\n",
              "    }\n",
              "    (() => {\n",
              "      let quickchartButtonEl =\n",
              "        document.querySelector('#df-50f6836d-f8af-4a6d-b3f2-f0afb4aaa70d button');\n",
              "      quickchartButtonEl.style.display =\n",
              "        google.colab.kernel.accessAllowed ? 'block' : 'none';\n",
              "    })();\n",
              "  </script>\n",
              "</div>\n",
              "\n",
              "  <div id=\"id_c5ac19cc-519d-4b0e-b3fe-269998aa617b\">\n",
              "    <style>\n",
              "      .colab-df-generate {\n",
              "        background-color: #E8F0FE;\n",
              "        border: none;\n",
              "        border-radius: 50%;\n",
              "        cursor: pointer;\n",
              "        display: none;\n",
              "        fill: #1967D2;\n",
              "        height: 32px;\n",
              "        padding: 0 0 0 0;\n",
              "        width: 32px;\n",
              "      }\n",
              "\n",
              "      .colab-df-generate:hover {\n",
              "        background-color: #E2EBFA;\n",
              "        box-shadow: 0px 1px 2px rgba(60, 64, 67, 0.3), 0px 1px 3px 1px rgba(60, 64, 67, 0.15);\n",
              "        fill: #174EA6;\n",
              "      }\n",
              "\n",
              "      [theme=dark] .colab-df-generate {\n",
              "        background-color: #3B4455;\n",
              "        fill: #D2E3FC;\n",
              "      }\n",
              "\n",
              "      [theme=dark] .colab-df-generate:hover {\n",
              "        background-color: #434B5C;\n",
              "        box-shadow: 0px 1px 3px 1px rgba(0, 0, 0, 0.15);\n",
              "        filter: drop-shadow(0px 1px 2px rgba(0, 0, 0, 0.3));\n",
              "        fill: #FFFFFF;\n",
              "      }\n",
              "    </style>\n",
              "    <button class=\"colab-df-generate\" onclick=\"generateWithVariable('df')\"\n",
              "            title=\"Generate code using this dataframe.\"\n",
              "            style=\"display:none;\">\n",
              "\n",
              "  <svg xmlns=\"http://www.w3.org/2000/svg\" height=\"24px\"viewBox=\"0 0 24 24\"\n",
              "       width=\"24px\">\n",
              "    <path d=\"M7,19H8.4L18.45,9,17,7.55,7,17.6ZM5,21V16.75L18.45,3.32a2,2,0,0,1,2.83,0l1.4,1.43a1.91,1.91,0,0,1,.58,1.4,1.91,1.91,0,0,1-.58,1.4L9.25,21ZM18.45,9,17,7.55Zm-12,3A5.31,5.31,0,0,0,4.9,8.1,5.31,5.31,0,0,0,1,6.5,5.31,5.31,0,0,0,4.9,4.9,5.31,5.31,0,0,0,6.5,1,5.31,5.31,0,0,0,8.1,4.9,5.31,5.31,0,0,0,12,6.5,5.46,5.46,0,0,0,6.5,12Z\"/>\n",
              "  </svg>\n",
              "    </button>\n",
              "    <script>\n",
              "      (() => {\n",
              "      const buttonEl =\n",
              "        document.querySelector('#id_c5ac19cc-519d-4b0e-b3fe-269998aa617b button.colab-df-generate');\n",
              "      buttonEl.style.display =\n",
              "        google.colab.kernel.accessAllowed ? 'block' : 'none';\n",
              "\n",
              "      buttonEl.onclick = () => {\n",
              "        google.colab.notebook.generateWithVariable('df');\n",
              "      }\n",
              "      })();\n",
              "    </script>\n",
              "  </div>\n",
              "\n",
              "    </div>\n",
              "  </div>\n"
            ],
            "application/vnd.google.colaboratory.intrinsic+json": {
              "type": "dataframe",
              "variable_name": "df",
              "summary": "{\n  \"name\": \"df\",\n  \"rows\": 5,\n  \"fields\": [\n    {\n      \"column\": \"query\",\n      \"properties\": {\n        \"dtype\": \"string\",\n        \"num_unique_values\": 5,\n        \"samples\": [\n          \"Avg Weather Delay\",\n          \"Avg LateAircraft Delay\",\n          \"Avg NAS Delay\"\n        ],\n        \"semantic_type\": \"\",\n        \"description\": \"\"\n      }\n    },\n    {\n      \"column\": \"Spark-SQL\",\n      \"properties\": {\n        \"dtype\": \"number\",\n        \"std\": 0.01835430897846006,\n        \"min\": 0.017796993255615234,\n        \"max\": 0.06103968620300293,\n        \"num_unique_values\": 5,\n        \"samples\": [\n          0.022768402099609376,\n          0.017796993255615234,\n          0.020530176162719727\n        ],\n        \"semantic_type\": \"\",\n        \"description\": \"\"\n      }\n    },\n    {\n      \"column\": \"HiveQL\",\n      \"properties\": {\n        \"dtype\": \"number\",\n        \"std\": 0.3217607807051685,\n        \"min\": 25.35,\n        \"max\": 26.2,\n        \"num_unique_values\": 5,\n        \"samples\": [\n          25.35,\n          26.2,\n          25.6\n        ],\n        \"semantic_type\": \"\",\n        \"description\": \"\"\n      }\n    }\n  ]\n}"
            }
          },
          "metadata": {},
          "execution_count": 71
        }
      ]
    },
    {
      "cell_type": "code",
      "source": [
        "from matplotlib.ticker import FuncFormatter"
      ],
      "metadata": {
        "id": "fwXU7FOnHi5D"
      },
      "execution_count": 91,
      "outputs": []
    },
    {
      "cell_type": "code",
      "source": [
        "x = range(len(hive_cum_exec_times))\n",
        "bar_width=0.35\n",
        "\n",
        "fig, ax = plt.subplots(figsize=(9,6))\n",
        "bars1 = ax.bar(x, spark_avg_qdurations, width=bar_width, label='spark')\n",
        "bars2 = ax.bar([i + bar_width for i in x], hive_avg_qdurations, width=bar_width, label='hive')\n",
        "ax.set_xlabel('Query')\n",
        "ax.set_ylabel('Query duration(s)')\n",
        "ax.set_title('Hadoop vs Spark - Avg query duration')\n",
        "ax.set_xticks([i + bar_width / 2 for i in x])\n",
        "ax.set_xticklabels(queries,rotation=45)\n",
        "\n",
        "ax.legend()\n",
        "plt.show()"
      ],
      "metadata": {
        "colab": {
          "base_uri": "https://localhost:8080/",
          "height": 670
        },
        "id": "Z6KFzt1lCkOt",
        "outputId": "b15e813c-efb3-42d1-ffe2-bf84382f7d3d"
      },
      "execution_count": 97,
      "outputs": [
        {
          "output_type": "display_data",
          "data": {
            "text/plain": [
              "<Figure size 900x600 with 1 Axes>"
            ],
            "image/png": "[encoded data removed]"
          },
          "metadata": {}
        }
      ]
    },
    {
      "cell_type": "code",
      "source": [],
      "metadata": {
        "id": "ioQxO0tmDucy"
      },
      "execution_count": null,
      "outputs": []
    }
  ]
}